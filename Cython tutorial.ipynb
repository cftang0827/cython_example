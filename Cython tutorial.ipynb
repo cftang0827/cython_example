{
 "cells": [
  {
   "cell_type": "markdown",
   "metadata": {},
   "source": [
    "# Cython example tutorial"
   ]
  },
  {
   "cell_type": "markdown",
   "metadata": {},
   "source": [
    "This is the basic tutorial sample and benchmark of cython with Python 3.6/Anaconda \n",
    "\n",
    "You can follow the step below to install\n",
    "\n",
    "pip install Cython\n",
    "\n",
    "And there are several ways to run Cython in your script, the way we choose in the example is cython magic command in jupyter \n",
    "\n",
    "1. Write a setup.py wrapper for cython\n",
    "2. Use pyximport \n",
    "3. Use cython command to generate .c file and gcc to compile to a static lib"
   ]
  },
  {
   "cell_type": "code",
   "execution_count": 1,
   "metadata": {},
   "outputs": [],
   "source": [
    "#load cython to jupyter notebook\n",
    "%load_ext Cython"
   ]
  },
  {
   "cell_type": "code",
   "execution_count": 2,
   "metadata": {},
   "outputs": [],
   "source": [
    "# The original version of code\n",
    "# Sum a list or numpy array\n",
    "\n",
    "import numpy as np\n",
    "def sum_python(n):\n",
    "    s = 0\n",
    "    for i in n:\n",
    "        s += i\n",
    "    return s\n",
    "\n"
   ]
  },
  {
   "cell_type": "markdown",
   "metadata": {},
   "source": [
    "Cython version of numpy<br>\n",
    "With numpy, we should declare the shape of numpy array to fasten the computation<br>\n",
    "```np.ndarray [long, ndim=1] n```<br>\n",
    "If not, the speed of Cython would slower than Python code<br>"
   ]
  },
  {
   "cell_type": "code",
   "execution_count": 4,
   "metadata": {},
   "outputs": [],
   "source": [
    "%%cython\n",
    "cimport cython\n",
    "cimport numpy as np\n",
    "ctypedef np.long DTYPE_t\n",
    "def sum_np(np.ndarray [long, ndim=1] n, int size):\n",
    "    cdef long s = 0\n",
    "    cdef long i\n",
    "    for i in range(len(n)):\n",
    "        s += n[i]\n",
    "    return s"
   ]
  },
  {
   "cell_type": "code",
   "execution_count": 5,
   "metadata": {},
   "outputs": [],
   "source": [
    "%%cython\n",
    "def sum_list(l):\n",
    "    cdef list cast_list = l\n",
    "    cdef long s = 0\n",
    "    cdef long i \n",
    "    for i in cast_list:\n",
    "        s += i\n",
    "    return s"
   ]
  },
  {
   "cell_type": "code",
   "execution_count": 6,
   "metadata": {},
   "outputs": [],
   "source": [
    "test_list = list(range(1,1000001))\n",
    "test_numpy = np.array(test_list,dtype=np.int)"
   ]
  },
  {
   "cell_type": "code",
   "execution_count": 7,
   "metadata": {},
   "outputs": [
    {
     "data": {
      "text/plain": [
       "500000500000"
      ]
     },
     "execution_count": 7,
     "metadata": {},
     "output_type": "execute_result"
    }
   ],
   "source": [
    "sum_np(test_numpy,len(test_numpy))"
   ]
  },
  {
   "cell_type": "code",
   "execution_count": 8,
   "metadata": {},
   "outputs": [
    {
     "data": {
      "text/plain": [
       "500000500000"
      ]
     },
     "execution_count": 8,
     "metadata": {},
     "output_type": "execute_result"
    }
   ],
   "source": [
    "sum_list(test_list)"
   ]
  },
  {
   "cell_type": "code",
   "execution_count": 9,
   "metadata": {},
   "outputs": [
    {
     "data": {
      "text/plain": [
       "500000500000"
      ]
     },
     "execution_count": 9,
     "metadata": {},
     "output_type": "execute_result"
    }
   ],
   "source": [
    "sum_python(test_list)"
   ]
  },
  {
   "cell_type": "code",
   "execution_count": 10,
   "metadata": {},
   "outputs": [
    {
     "data": {
      "text/plain": [
       "500000500000"
      ]
     },
     "execution_count": 10,
     "metadata": {},
     "output_type": "execute_result"
    }
   ],
   "source": [
    "sum(test_list)"
   ]
  },
  {
   "cell_type": "code",
   "execution_count": 11,
   "metadata": {},
   "outputs": [
    {
     "name": "stdout",
     "output_type": "stream",
     "text": [
      "607 µs ± 45.2 µs per loop (mean ± std. dev. of 10 runs, 100 loops each)\n",
      "91.1 ms ± 2.16 ms per loop (mean ± std. dev. of 10 runs, 100 loops each)\n"
     ]
    }
   ],
   "source": [
    "%timeit -n100 -r10 sum_np(test_numpy, len(test_numpy))\n",
    "%timeit -n100 -r10 sum_python(test_numpy)\n"
   ]
  },
  {
   "cell_type": "code",
   "execution_count": 43,
   "metadata": {},
   "outputs": [
    {
     "name": "stdout",
     "output_type": "stream",
     "text": [
      "4.1 ms ± 126 µs per loop (mean ± std. dev. of 10 runs, 100 loops each)\n",
      "41.6 ms ± 1.37 ms per loop (mean ± std. dev. of 10 runs, 100 loops each)\n"
     ]
    }
   ],
   "source": [
    "%timeit -n100 -r10 sum_list(test_list)\n",
    "%timeit -n100 -r10 sum_python(test_list)"
   ]
  },
  {
   "cell_type": "code",
   "execution_count": null,
   "metadata": {},
   "outputs": [
    {
     "name": "stdout",
     "output_type": "stream",
     "text": [
      "4.03 ms ± 139 µs per loop (mean ± std. dev. of 10 runs, 100 loops each)\n",
      "3.7 ms ± 89.5 µs per loop (mean ± std. dev. of 10 runs, 100 loops each)\n"
     ]
    }
   ],
   "source": [
    "%timeit -n100 -r10 sum_list(test_list)\n",
    "%timeit -n100 -r10 sum(test_list)\n",
    "%timeit -n100 -r10 sum_python(test_numpy)"
   ]
  },
  {
   "cell_type": "code",
   "execution_count": null,
   "metadata": {},
   "outputs": [],
   "source": []
  }
 ],
 "metadata": {
  "kernelspec": {
   "display_name": "Python 3",
   "language": "python",
   "name": "python3"
  },
  "language_info": {
   "codemirror_mode": {
    "name": "ipython",
    "version": 3
   },
   "file_extension": ".py",
   "mimetype": "text/x-python",
   "name": "python",
   "nbconvert_exporter": "python",
   "pygments_lexer": "ipython3",
   "version": "3.6.3"
  }
 },
 "nbformat": 4,
 "nbformat_minor": 2
}
